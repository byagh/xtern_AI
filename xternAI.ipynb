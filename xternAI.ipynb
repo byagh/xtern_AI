{
  "nbformat": 4,
  "nbformat_minor": 0,
  "metadata": {
    "colab": {
      "provenance": []
    },
    "kernelspec": {
      "name": "python3",
      "display_name": "Python 3"
    },
    "language_info": {
      "name": "python"
    }
  },
  "cells": [
    {
      "cell_type": "code",
      "source": [
        "import numpy as np\n",
        "import pandas as pd\n",
        "import seaborn as sns\n",
        "import matplotlib.pyplot as plt\n",
        "\n",
        "from joblib import dump, load\n",
        "\n",
        "from sklearn.ensemble import RandomForestClassifier\n",
        "from sklearn.svm import SVC\n",
        "from sklearn import svm\n",
        "from sklearn.neural_network import MLPClassifier\n",
        "from sklearn.linear_model import LogisticRegression, SGDClassifier\n",
        "from sklearn.datasets import make_classification\n",
        "\n",
        "from sklearn.naive_bayes import GaussianNB, CategoricalNB\n",
        "\n",
        "from sklearn.metrics import confusion_matrix, classification_report\n",
        "from sklearn.preprocessing import StandardScaler, LabelEncoder, OneHotEncoder, OrdinalEncoder\n",
        "from sklearn.model_selection import train_test_split, cross_val_score"
      ],
      "metadata": {
        "id": "OBChWAdKpXeY"
      },
      "execution_count": null,
      "outputs": []
    },
    {
      "cell_type": "code",
      "source": [
        "# this function is specific to our dataset\n",
        "def read_and_encode(input_csv):\n",
        "  df = pd.read_csv(input_csv)\n",
        "  le = LabelEncoder()\n",
        "\n",
        "  df['Year'] = le.fit_transform(df['Year'])\n",
        "  df['Major'] = le.fit_transform(df['Major'])\n",
        "  df['University'] = le.fit_transform(df['University'])\n",
        "\n",
        "  X = df[[\"Year\", \"Major\", \"University\", \"Time\"]]\n",
        "  y = df['Order']\n",
        "  return X, y"
      ],
      "metadata": {
        "id": "cABsTkVP6Jdy"
      },
      "execution_count": null,
      "outputs": []
    },
    {
      "cell_type": "code",
      "source": [
        "# specific to our dataset\n",
        "def train_and_pickle(X, y):\n",
        "  (X_train, X_test, y_train, y_test) = train_test_split(X, y, test_size=0.2, random_state=0)\n",
        "\n",
        "  classifier = MLPClassifier(hidden_layer_sizes=(1000), max_iter=5000,activation = 'relu',solver='adam')\n",
        "  classifier.fit(X_train, y_train)\n",
        "  y_pred = classifier.predict(X_test)\n",
        "  print(classification_report(y_test, y_pred))\n",
        "\n",
        "  dump(classifier, 'yaghmour_application_xtern_AI.joblib')"
      ],
      "metadata": {
        "id": "WrDg6cfU71EG"
      },
      "execution_count": null,
      "outputs": []
    },
    {
      "cell_type": "code",
      "source": [
        "X, y = read_and_encode('xtern_data.csv')\n",
        "train_and_pickle(X, y)"
      ],
      "metadata": {
        "colab": {
          "base_uri": "https://localhost:8080/"
        },
        "id": "FgeWtyyD8ytO",
        "outputId": "f2e8a814-ec39-437f-9bc3-76dbefa39b11"
      },
      "execution_count": null,
      "outputs": [
        {
          "output_type": "stream",
          "name": "stdout",
          "text": [
            "                                                          precision    recall  f1-score   support\n",
            "\n",
            "                        Breaded Pork Tenderloin Sandwich       0.57      0.29      0.38       101\n",
            "                                  Cornbread Hush Puppies       0.49      0.43      0.45        94\n",
            "                                    Fried Catfish Basket       0.71      0.53      0.61       105\n",
            "                        Hoosier BBQ Pulled Pork Sandwich       0.58      0.71      0.64       108\n",
            "                 Indiana Buffalo Chicken Tacos (3 tacos)       0.56      0.37      0.44        93\n",
            "    Indiana Corn on the Cob (brushed with garlic butter)       0.61      0.78      0.69        97\n",
            "                                      Indiana Pork Chili       0.60      0.76      0.67       113\n",
            "                                         Sugar Cream Pie       0.53      0.51      0.52        98\n",
            "                                      Sweet Potato Fries       0.52      0.57      0.54        97\n",
            "Ultimate Grilled Cheese Sandwich (with bacon and tomato)       0.59      0.80      0.68        94\n",
            "\n",
            "                                                accuracy                           0.58      1000\n",
            "                                               macro avg       0.58      0.57      0.56      1000\n",
            "                                            weighted avg       0.58      0.58      0.57      1000\n",
            "\n"
          ]
        }
      ]
    }
  ]
}